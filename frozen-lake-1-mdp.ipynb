{
 "cells": [
  {
   "attachments": {},
   "cell_type": "markdown",
   "metadata": {},
   "source": [
    "# Solving `FrozenLake-v1`: the Markov Decision Process Approach\n",
    "\n",
    "<br>\n",
    "<iframe width=\"800\" height=\"600\" src=\"https://www.gymlibrary.dev/environments/toy_text/frozen_lake/\"></iframe>\n",
    "<br>"
   ]
  },
  {
   "attachments": {},
   "cell_type": "markdown",
   "metadata": {},
   "source": [
    "## The Markov Decision Process\n",
    "\n",
    "<br>\n",
    "<iframe width=\"560\" height=\"315\" src=\"https://www.youtube.com/embed/sJIFUTITfBc\" title=\"YouTube video player\" frameborder=\"0\" allow=\"accelerometer; autoplay; clipboard-write; encrypted-media; gyroscope; picture-in-picture\" allowfullscreen></iframe>\n",
    "<br>"
   ]
  },
  {
   "attachments": {},
   "cell_type": "markdown",
   "metadata": {},
   "source": [
    "## Value Iteration\n",
    "\n",
    "Notes:\n",
    "\n",
    "* The value iteration algorithm below is not updating the values of termination states. Thus the values of those states must be initialized correctly at zero. \n",
    "\n",
    "* Since $\\gamma = 1$, and the reward of getting the gift is 1 and can only be obtained once, and since that reward is the only non-zero reward, the value function will reflects the probability of eventually getting the gift (instead of ending up in holes)."
   ]
  },
  {
   "cell_type": "code",
   "execution_count": 5,
   "metadata": {},
   "outputs": [
    {
     "name": "stdout",
     "output_type": "stream",
     "text": [
      "The Value Functions\n",
      "[[0.74419029 0.71786905 0.69921264 0.68954284]\n",
      " [0.74998193 0.         0.47290225 0.        ]\n",
      " [0.7611395  0.7768436  0.72358054 0.        ]\n",
      " [0.         0.84920568 0.9239777  0.        ]]\n"
     ]
    }
   ],
   "source": [
    "import gym\n",
    "import numpy as np\n",
    "\n",
    "# Load the FrozenLake-v1 environment\n",
    "env = gym.make('FrozenLake-v1', \n",
    "               desc=None, \n",
    "               map_name=\"4x4\", \n",
    "               is_slippery=True)\n",
    "\n",
    "# Set the discount factor (gamma) \n",
    "gamma = 1.0\n",
    "\n",
    "# Set the maximum number of iterations for the value iteration loop\n",
    "max_iterations = 100\n",
    "\n",
    "# Initialize the value function with all zeros\n",
    "V = np.zeros(env.observation_space.n)\n",
    "\n",
    "# Start the value iteration loop\n",
    "for i in range(max_iterations):\n",
    "    # Initialize the updated value function with all zeros\n",
    "    V_updated = np.zeros(env.observation_space.n)\n",
    "    \n",
    "    # Iterate over all states\n",
    "    for s in range(env.observation_space.n):\n",
    "        # Iterate over all actions\n",
    "        values = []\n",
    "\n",
    "        for a in range(env.action_space.n):\n",
    "            # Initialize the value for the state-action pair to be 0\n",
    "            value = 0\n",
    "            \n",
    "            # Iterate over all next states\n",
    "            for p, s_prime, r, _ in env.P[s][a]:\n",
    "                # Update the value for the state-action pair\n",
    "                value += p * (r + gamma * V[s_prime])\n",
    "            \n",
    "            # Update the maximum value for the state\n",
    "            values.append(value)\n",
    "        \n",
    "        # Update the value function for the state\n",
    "        V_updated[s] = max(values)\n",
    "    \n",
    "    # Set the updated value function as the current value function\n",
    "    V = V_updated\n",
    "\n",
    "# Print the final value function\n",
    "print('The Value Functions')\n",
    "print(np.reshape(np.array(V), (4, 4)))"
   ]
  }
 ],
 "metadata": {
  "kernelspec": {
   "display_name": "ai-gym",
   "language": "python",
   "name": "python3"
  },
  "language_info": {
   "codemirror_mode": {
    "name": "ipython",
    "version": 3
   },
   "file_extension": ".py",
   "mimetype": "text/x-python",
   "name": "python",
   "nbconvert_exporter": "python",
   "pygments_lexer": "ipython3",
   "version": "3.10.8"
  },
  "orig_nbformat": 4,
  "vscode": {
   "interpreter": {
    "hash": "889bb5f74ba647e65c6e37802adbe6da6342d778f63baab9318415bf54c07ace"
   }
  }
 },
 "nbformat": 4,
 "nbformat_minor": 2
}
