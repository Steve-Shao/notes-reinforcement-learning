{
 "cells": [
  {
   "attachments": {},
   "cell_type": "markdown",
   "metadata": {},
   "source": [
    "# Frozen Lake"
   ]
  },
  {
   "cell_type": "code",
   "execution_count": 10,
   "metadata": {},
   "outputs": [],
   "source": [
    "import gym\n",
    "import numpy as np\n",
    "import matplotlib.pyplot as plt"
   ]
  },
  {
   "cell_type": "code",
   "execution_count": 14,
   "metadata": {},
   "outputs": [
    {
     "name": "stdout",
     "output_type": "stream",
     "text": [
      "The Value Functions\n",
      "[[0.06889059 0.06141431 0.07440957 0.05580711]\n",
      " [0.09185426 0.         0.1122081  0.        ]\n",
      " [0.14543612 0.2474968  0.29961748 0.        ]\n",
      " [0.         0.37993579 0.63902009 0.        ]]\n"
     ]
    }
   ],
   "source": [
    "# Load the FrozenLake-v1 environment\n",
    "env = gym.make('FrozenLake-v1', \n",
    "               desc=None, \n",
    "               map_name=\"4x4\", \n",
    "               is_slippery=True)\n",
    "\n",
    "# Set the discount factor (gamma)\n",
    "gamma = 0.9\n",
    "\n",
    "# Set the maximum number of iterations for the value iteration loop\n",
    "max_iterations = 100\n",
    "\n",
    "# Initialize the value function with all zeros\n",
    "V = np.zeros(env.observation_space.n)\n",
    "\n",
    "# Start the value iteration loop\n",
    "for i in range(max_iterations):\n",
    "    # Initialize the updated value function with all zeros\n",
    "    V_updated = np.zeros(env.observation_space.n)\n",
    "    \n",
    "    # Iterate over all states\n",
    "    for s in range(env.observation_space.n):\n",
    "        # Iterate over all actions\n",
    "        values = []\n",
    "\n",
    "        for a in range(env.action_space.n):\n",
    "            # Initialize the value for the state-action pair to be 0\n",
    "            value = 0\n",
    "            \n",
    "            # Iterate over all next states\n",
    "            for p, s_prime, r, _ in env.P[s][a]:\n",
    "                # Update the value for the state-action pair\n",
    "                value += p * (r + gamma * V[s_prime])\n",
    "            \n",
    "            # Update the maximum value for the state\n",
    "            values.append(value)\n",
    "        \n",
    "        # Update the value function for the state\n",
    "        V_updated[s] = max(values)\n",
    "    \n",
    "    # Set the updated value function as the current value function\n",
    "    V = V_updated\n",
    "\n",
    "# Print the final value function\n",
    "print('The Value Functions')\n",
    "print(np.reshape(np.array(V), (4, 4)))"
   ]
  }
 ],
 "metadata": {
  "kernelspec": {
   "display_name": "ai-gym",
   "language": "python",
   "name": "python3"
  },
  "language_info": {
   "codemirror_mode": {
    "name": "ipython",
    "version": 3
   },
   "file_extension": ".py",
   "mimetype": "text/x-python",
   "name": "python",
   "nbconvert_exporter": "python",
   "pygments_lexer": "ipython3",
   "version": "3.10.8"
  },
  "orig_nbformat": 4,
  "vscode": {
   "interpreter": {
    "hash": "889bb5f74ba647e65c6e37802adbe6da6342d778f63baab9318415bf54c07ace"
   }
  }
 },
 "nbformat": 4,
 "nbformat_minor": 2
}
