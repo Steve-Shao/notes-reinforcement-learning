{
 "cells": [
  {
   "attachments": {},
   "cell_type": "markdown",
   "metadata": {},
   "source": [
    "# Solving `FrozenLake-v1`: the Markov Decision Process Approach\n",
    "\n",
    "Here, we treat this problem as an discounted reward, infinite horizon MDP with discount factor 1. (Since the non-zero reward can only be obtained once in each episold, the total reward will always be finite.) \n",
    "\n",
    "Documentation: [Frozen Lake](https://www.gymlibrary.dev/environments/toy_text/frozen_lake/)\n",
    "\n",
    "<br>\n",
    "<iframe width=\"800\" height=\"600\" src=\"https://www.gymlibrary.dev/environments/toy_text/frozen_lake/\"></iframe>"
   ]
  },
  {
   "attachments": {},
   "cell_type": "markdown",
   "metadata": {},
   "source": [
    "## Value Iteration\n",
    "\n",
    "Note that the value iteration algorithm below is not updating the values of termination states. Thus the values of those states must be initialized correctly at zero. "
   ]
  },
  {
   "cell_type": "code",
   "execution_count": 1,
   "metadata": {},
   "outputs": [],
   "source": [
    "import gym\n",
    "import numpy as np\n",
    "\n",
    "# Load the FrozenLake-v1 environment\n",
    "env = gym.make('FrozenLake-v1', \n",
    "               desc=None, \n",
    "               map_name=\"4x4\", \n",
    "               is_slippery=True)\n",
    "\n",
    "\n",
    "# --------------------  -------------------- # \n",
    "\n",
    "# Set the discount factor (gamma) \n",
    "gamma = 1.0\n",
    "\n",
    "# Set the maximum number of iterations for the value iteration loop\n",
    "max_iterations = 200\n",
    "\n",
    "# Initialize the value function with all zeros\n",
    "V = np.zeros(env.observation_space.n)\n",
    "\n",
    "# Track the convergence\n",
    "V_total = []\n",
    "\n",
    "\n",
    "# --------------------  -------------------- # \n",
    "\n",
    "# Start the value iteration loop\n",
    "for i in range(max_iterations):\n",
    "    # Initialize the updated value function with all zeros\n",
    "    V_updated = np.zeros(env.observation_space.n)\n",
    "    \n",
    "    # Iterate over all states\n",
    "    for s in range(env.observation_space.n):\n",
    "        # Initialize the vector of values associate with all actions\n",
    "        values = []\n",
    "\n",
    "        # Iterate over all actions\n",
    "        for a in range(env.action_space.n):\n",
    "            # Initialize the value for the state-action pair \n",
    "            value = 0\n",
    "            \n",
    "            # Iterate over all next states\n",
    "            for p, s_prime, r, _ in env.P[s][a]:\n",
    "                # Update the value for the state-action pair\n",
    "                value += p * (r + gamma * V[s_prime])\n",
    "            \n",
    "            # Append value for the state-action pair\n",
    "            values.append(value)\n",
    "        \n",
    "        # Update the value function for the state\n",
    "        V_updated[s] = max(values)\n",
    "    \n",
    "    # Set the updated value function as the current value function\n",
    "    V = V_updated\n",
    "    V_total.append(np.sum(V))"
   ]
  },
  {
   "attachments": {},
   "cell_type": "markdown",
   "metadata": {},
   "source": [
    "Convergence rate: "
   ]
  },
  {
   "cell_type": "code",
   "execution_count": 2,
   "metadata": {},
   "outputs": [
    {
     "data": {
      "image/png": "[encoded data removed]",
      "text/plain": [
       "<Figure size 1000x300 with 1 Axes>"
      ]
     },
     "metadata": {},
     "output_type": "display_data"
    }
   ],
   "source": [
    "import matplotlib.pyplot as plt\n",
    "\n",
    "# Plot the rewards over time\n",
    "plt.figure(figsize=(10, 3), dpi=100)\n",
    "plt.plot(V_total)\n",
    "plt.xlabel(\"Iteration\")\n",
    "plt.ylabel(\"Summation of values of all states\")\n",
    "plt.show()"
   ]
  },
  {
   "attachments": {},
   "cell_type": "markdown",
   "metadata": {},
   "source": [
    "The value of each state reflects the probability of eventually getting the gift (instead of ending up in holes), since: \n",
    "\n",
    "* $\\gamma = 1$\n",
    "\n",
    "* The reward of getting the gift is 1, and can only be obtained once\n",
    "\n",
    "* The reward of getting the gift is the only non-zero reward"
   ]
  },
  {
   "cell_type": "code",
   "execution_count": 3,
   "metadata": {},
   "outputs": [
    {
     "name": "stdout",
     "output_type": "stream",
     "text": [
      "The Value of all States: \n",
      "[[0.8167335  0.81445553 0.81283803 0.81199873]\n",
      " [0.81722818 0.         0.5245526  0.        ]\n",
      " [0.81818151 0.81952412 0.76117345 0.        ]\n",
      " [0.         0.87950893 0.93970076 0.        ]]\n"
     ]
    }
   ],
   "source": [
    "# Print the final value function\n",
    "print('The Value of all States: ')\n",
    "print(np.reshape(np.array(V), (4, 4)))"
   ]
  },
  {
   "attachments": {},
   "cell_type": "markdown",
   "metadata": {},
   "source": [
    "The Q function: "
   ]
  },
  {
   "cell_type": "code",
   "execution_count": 4,
   "metadata": {},
   "outputs": [
    {
     "name": "stdout",
     "output_type": "stream",
     "text": [
      "[[0.8168984  0.81613907 0.81613907 0.81597418]\n",
      " [0.54372968 0.54319051 0.54243118 0.81467569]\n",
      " [0.71728205 0.71700229 0.71646312 0.81309743]\n",
      " [0.54161225 0.54161225 0.54133249 0.8122785 ]\n",
      " [0.81738106 0.54513656 0.54497167 0.54465389]\n",
      " [0.         0.         0.         0.        ]\n",
      " [0.52467049 0.25372448 0.52467049 0.27094601]\n",
      " [0.         0.         0.         0.        ]\n",
      " [0.54513656 0.54590188 0.5455841  0.81831127]\n",
      " [0.56589681 0.8196213  0.54689413 0.52645165]\n",
      " [0.76125916 0.58640829 0.48808445 0.44802557]\n",
      " [0.         0.         0.         0.        ]\n",
      " [0.         0.         0.         0.        ]\n",
      " [0.56634435 0.60640323 0.87957793 0.58640829]\n",
      " [0.86012771 0.93973656 0.9002914  0.88022746]\n",
      " [0.         0.         0.         0.        ]]\n"
     ]
    }
   ],
   "source": [
    "# Initialize the Q functions with all zeros\n",
    "Q = np.zeros((env.observation_space.n, env.action_space.n))\n",
    "\n",
    "# Iterate over all states\n",
    "for s in range(env.observation_space.n):\n",
    "    # Iterate over all actions\n",
    "    for a in range(env.action_space.n):\n",
    "        # Iterate over all next states\n",
    "        for p, s_prime, r, _ in env.P[s][a]:\n",
    "            # Update the value for the state-action pair\n",
    "            Q[s,a] += p * (r + gamma * V[s_prime])\n",
    "\n",
    "print(Q)"
   ]
  },
  {
   "attachments": {},
   "cell_type": "markdown",
   "metadata": {},
   "source": [
    "The optimal policy: "
   ]
  },
  {
   "cell_type": "code",
   "execution_count": 5,
   "metadata": {},
   "outputs": [
    {
     "name": "stdout",
     "output_type": "stream",
     "text": [
      "[['<' 'A' 'A' 'A']\n",
      " ['<' '<' '<' '<']\n",
      " ['A' 'V' '<' '<']\n",
      " ['<' '>' 'V' '<']]\n"
     ]
    }
   ],
   "source": [
    "actions = np.array(['<', 'V', '>', 'A']) # left, down, right, up\n",
    "optimal_policy = actions[np.argmax(Q, axis=1)]\n",
    "\n",
    "print(optimal_policy.reshape((4, 4)))"
   ]
  },
  {
   "attachments": {},
   "cell_type": "markdown",
   "metadata": {},
   "source": [
    "## Modified Policy Iteration"
   ]
  },
  {
   "cell_type": "code",
   "execution_count": 6,
   "metadata": {},
   "outputs": [
    {
     "name": "stdout",
     "output_type": "stream",
     "text": [
      "[0 0 0 0 0 0 0 0 0 0 0 0 0 0 1 0]\n",
      "[0 1 2 3 0 0 0 0 0 1 0 0 0 1 2 0]\n",
      "[1 2 2 3 0 0 0 0 1 1 0 0 0 2 2 0]\n",
      "[0 3 2 3 0 0 0 0 3 1 0 0 0 2 1 0]\n",
      "[0 3 0 3 0 0 0 0 3 1 0 0 0 2 1 0]\n",
      "[0 3 3 3 0 0 0 0 3 1 0 0 0 2 1 0]\n",
      "[0 3 3 3 0 0 0 0 3 1 0 0 0 2 1 0]\n",
      "[0 3 3 3 0 0 0 0 3 1 0 0 0 2 1 0]\n",
      "[0 3 3 3 0 0 0 0 3 1 0 0 0 2 1 0]\n",
      "[0 3 3 3 0 0 0 0 3 1 0 0 0 2 1 0]\n",
      "[0 3 3 3 0 0 0 0 3 1 0 0 0 2 1 0]\n",
      "[0 3 3 3 0 0 0 0 3 1 0 0 0 2 1 0]\n",
      "[0 3 3 3 0 0 0 0 3 1 0 0 0 2 1 0]\n",
      "[0 3 3 3 0 0 0 0 3 1 0 0 0 2 1 0]\n",
      "[0 3 3 3 0 0 0 0 3 1 0 0 0 2 1 0]\n",
      "[0 3 3 3 0 0 0 0 3 1 0 0 0 2 1 0]\n",
      "[0 3 3 3 0 0 0 0 3 1 0 0 0 2 1 0]\n",
      "[0 3 3 3 0 0 0 0 3 1 0 0 0 2 1 0]\n",
      "[0 3 3 3 0 0 0 0 3 1 0 0 0 2 1 0]\n",
      "[0 3 3 3 0 0 0 0 3 1 0 0 0 2 1 0]\n"
     ]
    }
   ],
   "source": [
    "import gym\n",
    "import numpy as np\n",
    "\n",
    "# Load the FrozenLake-v1 environment\n",
    "env = gym.make('FrozenLake-v1', \n",
    "               desc=None, \n",
    "               map_name=\"4x4\", \n",
    "               is_slippery=True)\n",
    "\n",
    "\n",
    "# --------------------  -------------------- # \n",
    "\n",
    "# Set the discount factor (gamma) \n",
    "gamma = 1.0\n",
    "\n",
    "# Set the maximum number of iterations for the value iteration loop\n",
    "policy_iterations = 20\n",
    "value_iterations = 10\n",
    "\n",
    "# Initialize the policy\n",
    "# policy = np.random.randint(env.action_space.n, size=env.observation_space.n)\n",
    "policy = np.zeros(env.observation_space.n).astype(int)\n",
    "\n",
    "# Track the convergence\n",
    "V_total = []\n",
    "\n",
    "# Initialize the updated value function to all zeros\n",
    "V = np.zeros(env.observation_space.n)\n",
    "\n",
    "\n",
    "# --------------------  -------------------- # \n",
    "\n",
    "# Start the policy iteration loop\n",
    "for i in range(policy_iterations): \n",
    "\n",
    "    # ----- POLICY EVALUATION ----- # \n",
    "\n",
    "    # Reset values of termination states\n",
    "    V[np.array((5,7,11,12,15))] = 0 \n",
    "\n",
    "    # Start the value iteration loop\n",
    "    for j in range(value_iterations): \n",
    "        # Iterate over all states\n",
    "        for s in range(env.observation_space.n):\n",
    "            # Find the corresponding action\n",
    "            a = policy[s]\n",
    "            # Initialize value of the state\n",
    "            value = 0\n",
    "\n",
    "            # Iterate over all next states\n",
    "            for p, s_prime, r, _ in env.P[s][a]:\n",
    "                # Update the value for the state-action pair\n",
    "                value += p * (r + gamma * V[s_prime])\n",
    "            \n",
    "            # get value of the state\n",
    "            V[s] = value\n",
    "\n",
    "        # Track the convergence\n",
    "        V_total.append(np.sum(V))\n",
    "\n",
    "    # ----- POLICY IMPROVEMENT ----- # \n",
    "    \n",
    "    # Iterate over all states\n",
    "    for s in range(env.observation_space.n):\n",
    "        # Initialize the vector of values associate with all actions\n",
    "        values = []\n",
    "\n",
    "        # Iterate over all actions\n",
    "        for a in range(env.action_space.n):\n",
    "            # Initialize the value for the state-action pair \n",
    "            value = 0\n",
    "            \n",
    "            # Iterate over all next states\n",
    "            for p, s_prime, r, _ in env.P[s][a]:\n",
    "                # Update the value for the state-action pair\n",
    "                value += p * (r + gamma * V[s_prime])\n",
    "            \n",
    "            # Append value for the state-action pair\n",
    "            values.append(value)\n",
    "            policy[s] = np.argmax(values)\n",
    "    \n",
    "    print(policy)"
   ]
  },
  {
   "attachments": {},
   "cell_type": "markdown",
   "metadata": {},
   "source": [
    "Convergence rate: "
   ]
  },
  {
   "cell_type": "code",
   "execution_count": 7,
   "metadata": {},
   "outputs": [
    {
     "data": {
      "image/png": "[encoded data removed]",
      "text/plain": [
       "<Figure size 1000x300 with 1 Axes>"
      ]
     },
     "metadata": {},
     "output_type": "display_data"
    }
   ],
   "source": [
    "import matplotlib.pyplot as plt\n",
    "\n",
    "# Plot the rewards over time\n",
    "plt.figure(figsize=(10, 3), dpi=100)\n",
    "plt.plot(V_total)\n",
    "plt.xlabel(\"Iteration\")\n",
    "plt.ylabel(\"Summation of values of all states\")\n",
    "plt.show()"
   ]
  },
  {
   "attachments": {},
   "cell_type": "markdown",
   "metadata": {},
   "source": [
    "The optimal policy: "
   ]
  },
  {
   "cell_type": "code",
   "execution_count": 8,
   "metadata": {},
   "outputs": [
    {
     "name": "stdout",
     "output_type": "stream",
     "text": [
      "[['<' 'A' 'A' 'A']\n",
      " ['<' '<' '<' '<']\n",
      " ['A' 'V' '<' '<']\n",
      " ['<' '>' 'V' '<']]\n"
     ]
    }
   ],
   "source": [
    "actions = np.array(['<', 'V', '>', 'A']) # left, down, right, up\n",
    "optimal_policy = actions[policy]\n",
    "\n",
    "print(optimal_policy.reshape((4, 4)))"
   ]
  }
 ],
 "metadata": {
  "kernelspec": {
   "display_name": "ai-gym",
   "language": "python",
   "name": "python3"
  },
  "language_info": {
   "codemirror_mode": {
    "name": "ipython",
    "version": 3
   },
   "file_extension": ".py",
   "mimetype": "text/x-python",
   "name": "python",
   "nbconvert_exporter": "python",
   "pygments_lexer": "ipython3",
   "version": "3.10.8"
  },
  "orig_nbformat": 4,
  "vscode": {
   "interpreter": {
    "hash": "889bb5f74ba647e65c6e37802adbe6da6342d778f63baab9318415bf54c07ace"
   }
  }
 },
 "nbformat": 4,
 "nbformat_minor": 2
}
